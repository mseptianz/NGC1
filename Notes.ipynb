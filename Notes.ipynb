{
 "cells": [
  {
   "cell_type": "code",
   "execution_count": 4,
   "metadata": {},
   "outputs": [
    {
     "name": "stdout",
     "output_type": "stream",
     "text": [
      "WIDIH betul lu \n",
      "selesai\n",
      "udah beres cuyy\n"
     ]
    }
   ],
   "source": [
    "a = 5 \n",
    "b = 3\n",
    "if a > b : \n",
    "    print(\"WIDIH betul lu \")\n",
    "    print(\"selesai\")\n",
    "elif a < b :\n",
    "    print(\"Lah salahh lu pea \")\n",
    "print(\"udah beres cuyy\")"
   ]
  },
  {
   "cell_type": "markdown",
   "metadata": {},
   "source": [
    "# next"
   ]
  },
  {
   "cell_type": "code",
   "execution_count": 5,
   "metadata": {},
   "outputs": [
    {
     "name": "stdout",
     "output_type": "stream",
     "text": [
      "tes 1 tes 2\n"
     ]
    }
   ],
   "source": [
    "#tes coment ( ini ga bakal di execute )\n",
    "# testprint \n",
    "print(\"tes 1 tes 2\")\n"
   ]
  },
  {
   "cell_type": "code",
   "execution_count": 7,
   "metadata": {},
   "outputs": [
    {
     "name": "stdout",
     "output_type": "stream",
     "text": [
      "test multi line coment\n"
     ]
    }
   ],
   "source": [
    "#multiline comment \n",
    "# kalo mau buat multiline coment lu make \"\"\"\"\"\"(petik 3 kali)\n",
    "\"\"\"\n",
    "nih liat bagian ini gabakal diprint\n",
    "kenapa karna ini udh gw kasih awal petik 3 \n",
    "liat dah\n",
    "\"\"\"\n",
    "print(\"test multi line coment\")"
   ]
  },
  {
   "cell_type": "code",
   "execution_count": 5,
   "metadata": {},
   "outputs": [
    {
     "ename": "NameError",
     "evalue": "name 'apple' is not defined",
     "output_type": "error",
     "traceback": [
      "\u001b[1;31m---------------------------------------------------------------------------\u001b[0m",
      "\u001b[1;31mNameError\u001b[0m                                 Traceback (most recent call last)",
      "Cell \u001b[1;32mIn[5], line 1\u001b[0m\n\u001b[1;32m----> 1\u001b[0m Fruits \u001b[38;5;241m=\u001b[39m [apple , banana, manggo]\n\u001b[0;32m      2\u001b[0m a,b,c \u001b[38;5;241m=\u001b[39m Fruits\n\u001b[0;32m      4\u001b[0m \u001b[38;5;28mprint\u001b[39m(a,b,c)\n",
      "\u001b[1;31mNameError\u001b[0m: name 'apple' is not defined"
     ]
    }
   ],
   "source": [
    "Fruits = [apple , banana, manggo]\n",
    "a,b,c = Fruits\n",
    "\n",
    "print(a,b,c)"
   ]
  },
  {
   "cell_type": "code",
   "execution_count": 2,
   "metadata": {},
   "outputs": [
    {
     "name": "stdout",
     "output_type": "stream",
     "text": [
      "orange\n",
      "orange\n",
      "orange\n"
     ]
    }
   ],
   "source": [
    "x = y = z = \"orange\" \n",
    "print (x)\n",
    "print(y)\n",
    "print(z)"
   ]
  },
  {
   "cell_type": "code",
   "execution_count": 10,
   "metadata": {},
   "outputs": [
    {
     "ename": "SyntaxError",
     "evalue": "invalid syntax. Perhaps you forgot a comma? (3599491973.py, line 4)",
     "output_type": "error",
     "traceback": [
      "\u001b[1;36m  Cell \u001b[1;32mIn[10], line 4\u001b[1;36m\u001b[0m\n\u001b[1;33m    print (math.floor t )\u001b[0m\n\u001b[1;37m           ^\u001b[0m\n\u001b[1;31mSyntaxError\u001b[0m\u001b[1;31m:\u001b[0m invalid syntax. Perhaps you forgot a comma?\n"
     ]
    }
   ],
   "source": [
    "import math \n",
    "\n",
    "t =3.8 \n",
    "print (math.floor t )"
   ]
  },
  {
   "cell_type": "code",
   "execution_count": 13,
   "metadata": {},
   "outputs": [
    {
     "name": "stdout",
     "output_type": "stream",
     "text": [
      "3\n",
      "2\n"
     ]
    }
   ],
   "source": [
    "c = [\"apple\",'apple', 'banana']\n",
    "print(len(c))\n",
    "print(c.count('apple'))"
   ]
  },
  {
   "cell_type": "code",
   "execution_count": 1,
   "metadata": {},
   "outputs": [
    {
     "ename": "ValueError",
     "evalue": "invalid literal for int() with base 10: ''",
     "output_type": "error",
     "traceback": [
      "\u001b[1;31m---------------------------------------------------------------------------\u001b[0m",
      "\u001b[1;31mValueError\u001b[0m                                Traceback (most recent call last)",
      "Cell \u001b[1;32mIn[1], line 1\u001b[0m\n\u001b[1;32m----> 1\u001b[0m umur_abim \u001b[38;5;241m=\u001b[39m \u001b[38;5;28mint\u001b[39m(\u001b[38;5;28minput\u001b[39m(\u001b[38;5;124m\"\u001b[39m\u001b[38;5;124mMasukan Umur nya si abim dalam (tahun) :  \u001b[39m\u001b[38;5;124m\"\u001b[39m)) \u001b[38;5;66;03m#convert 'number' to 'integer number'\u001b[39;00m\n\u001b[0;32m      2\u001b[0m umur_ciput \u001b[38;5;241m=\u001b[39m \u001b[38;5;28mint\u001b[39m(\u001b[38;5;28minput\u001b[39m(\u001b[38;5;124m\"\u001b[39m\u001b[38;5;124mMasukan Umurnya ciput dalam (tahun) : \u001b[39m\u001b[38;5;124m\"\u001b[39m))\n\u001b[0;32m      4\u001b[0m \u001b[38;5;28mprint\u001b[39m(umur_abim \u001b[38;5;241m==\u001b[39m umur_ciput)\n",
      "\u001b[1;31mValueError\u001b[0m: invalid literal for int() with base 10: ''"
     ]
    }
   ],
   "source": [
    "umur_abim = int(input(\"Masukan Umur nya si abim dalam (tahun) :  \")) #convert 'number' to 'integer number'\n",
    "umur_ciput = int(input(\"Masukan Umurnya ciput dalam (tahun) : \"))\n",
    "\n",
    "print(umur_abim == umur_ciput)"
   ]
  },
  {
   "cell_type": "code",
   "execution_count": 21,
   "metadata": {},
   "outputs": [
    {
     "name": "stdout",
     "output_type": "stream",
     "text": [
      "Instruktor\n"
     ]
    }
   ],
   "source": [
    "#Duplicate key is not allowed \n",
    "dict = {\n",
    "    \"brand\" : 'ford',\n",
    "    \"model\" : \"Mustang\",\n",
    "    \"year\" : [1965,2020,2024],\n",
    "    \"buyer\" : {'name': 'Riki', 'Job': 'Instruktor'}\n",
    "\n",
    "}\n",
    "print (dict[\"buyer\"][\"Job\"])"
   ]
  },
  {
   "cell_type": "code",
   "execution_count": 24,
   "metadata": {},
   "outputs": [
    {
     "ename": "TypeError",
     "evalue": "unhashable type: 'dict'",
     "output_type": "error",
     "traceback": [
      "\u001b[1;31m---------------------------------------------------------------------------\u001b[0m",
      "\u001b[1;31mTypeError\u001b[0m                                 Traceback (most recent call last)",
      "Cell \u001b[1;32mIn[24], line 1\u001b[0m\n\u001b[1;32m----> 1\u001b[0m \u001b[38;5;28mdict\u001b[39m[\u001b[38;5;124m'\u001b[39m\u001b[38;5;124mbuyer\u001b[39m\u001b[38;5;124m'\u001b[39m] : {{\u001b[38;5;124m'\u001b[39m\u001b[38;5;124mname\u001b[39m\u001b[38;5;124m'\u001b[39m: \u001b[38;5;124m'\u001b[39m\u001b[38;5;124mlis\u001b[39m\u001b[38;5;124m'\u001b[39m, \u001b[38;5;124m'\u001b[39m\u001b[38;5;124mJob\u001b[39m\u001b[38;5;124m'\u001b[39m: \u001b[38;5;124m'\u001b[39m\u001b[38;5;124mInstruktor\u001b[39m\u001b[38;5;124m'\u001b[39m}}\n\u001b[0;32m      2\u001b[0m \u001b[38;5;28mdict\u001b[39m\n",
      "\u001b[1;31mTypeError\u001b[0m: unhashable type: 'dict'"
     ]
    }
   ],
   "source": [
    "dict['buyer'] : {{'name': 'lis', 'Job': 'Instruktor'}}\n",
    "dict"
   ]
  },
  {
   "cell_type": "code",
   "execution_count": 7,
   "metadata": {},
   "outputs": [
    {
     "name": "stdout",
     "output_type": "stream",
     "text": [
      "baz\n",
      "baz\n",
      "['foo', 'bar', 'baz', 'qux ']\n",
      "['foo', 'bar', 'baz', 'qux ', 'apadah', 'tau nih']\n",
      "['foo', 'bar', 'baz', 'qux ', 'foo', 'bar', 'baz', 'qux ']\n"
     ]
    }
   ],
   "source": [
    "#List are ordered \n",
    "\n",
    "a = ['foo', 'bar', 'baz' ,'qux ' ]\n",
    "b = ['baz', 'qux','bar','foo']\n",
    "\n",
    "print (a[2])\n",
    "print (b[-4])\n",
    "\n",
    "\n",
    "print(a)\n",
    "print(a + ['apadah', 'tau nih'])\n",
    "print (a * 2)"
   ]
  },
  {
   "cell_type": "code",
   "execution_count": 8,
   "metadata": {},
   "outputs": [
    {
     "name": "stdout",
     "output_type": "stream",
     "text": [
      "Apel\n",
      "zebra\n"
     ]
    }
   ],
   "source": [
    "coba = ['apel','Apel', 'zebra',\"Zebra\"]\n",
    "\n",
    "print(min(coba))\n",
    "print(max(coba))"
   ]
  },
  {
   "cell_type": "code",
   "execution_count": 9,
   "metadata": {},
   "outputs": [
    {
     "name": "stdout",
     "output_type": "stream",
     "text": [
      "['lia ', 'bayu', 'bambang', 'dwi', 'septian', 'dika']\n"
     ]
    }
   ],
   "source": [
    "my_friend = [ 'icha','lia ','bayu','bambang','yanto'\n",
    "             'dwi','septian','dika','manta','shandi']\n",
    "\n",
    "print(my_friend[1:7])\n"
   ]
  },
  {
   "cell_type": "code",
   "execution_count": null,
   "metadata": {},
   "outputs": [],
   "source": []
  }
 ],
 "metadata": {
  "kernelspec": {
   "display_name": "base",
   "language": "python",
   "name": "python3"
  },
  "language_info": {
   "codemirror_mode": {
    "name": "ipython",
    "version": 3
   },
   "file_extension": ".py",
   "mimetype": "text/x-python",
   "name": "python",
   "nbconvert_exporter": "python",
   "pygments_lexer": "ipython3",
   "version": "3.12.4"
  }
 },
 "nbformat": 4,
 "nbformat_minor": 2
}
